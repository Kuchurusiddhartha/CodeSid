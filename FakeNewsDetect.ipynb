{
  "nbformat": 4,
  "nbformat_minor": 0,
  "metadata": {
    "colab": {
      "provenance": [],
      "authorship_tag": "ABX9TyMD1Wruz1cP1BOlwUEEtklo",
      "include_colab_link": true
    },
    "kernelspec": {
      "name": "python3",
      "display_name": "Python 3"
    },
    "language_info": {
      "name": "python"
    }
  },
  "cells": [
    {
      "cell_type": "markdown",
      "metadata": {
        "id": "view-in-github",
        "colab_type": "text"
      },
      "source": [
        "<a href=\"https://colab.research.google.com/github/Kuchurusiddhartha/CodeSid/blob/main/FakeNewsDetect.ipynb\" target=\"_parent\"><img src=\"https://colab.research.google.com/assets/colab-badge.svg\" alt=\"Open In Colab\"/></a>"
      ]
    },
    {
      "cell_type": "code",
      "source": [
        "!pip install pandas scikit-learn\n",
        "\n",
        "import pandas as pd\n",
        "from sklearn.model_selection import train_test_split\n",
        "from sklearn.feature_extraction.text import TfidfVectorizer\n",
        "from sklearn.linear_model import PassiveAggressiveClassifier\n",
        "from sklearn.metrics import accuracy_score, confusion_matrix\n",
        "\n",
        "\n",
        "df = pd.read_csv(\"fake_news_dataset[1].csv\")\n",
        "\n",
        "\n",
        "df = df.dropna(subset=[\"text\", \"label\"])\n",
        "\n",
        "\n",
        "print(\"Unique labels before mapping:\", df[\"label\"].unique())\n",
        "\n",
        "\n",
        "def clean_label(x):\n",
        "    if str(x).lower() in [\"fake\", \"1\"]:\n",
        "        return 1\n",
        "    elif str(x).lower() in [\"true\", \"real\", \"0\"]:\n",
        "        return 0\n",
        "    else:\n",
        "        return None\n",
        "\n",
        "df[\"label\"] = df[\"label\"].apply(clean_label)\n",
        "\n",
        "\n",
        "df = df.dropna(subset=[\"label\"])\n",
        "df[\"label\"] = df[\"label\"].astype(int)\n",
        "\n",
        "\n",
        "X = df[\"text\"]\n",
        "y = df[\"label\"]\n",
        "\n",
        "X_train, X_test, y_train, y_test = train_test_split(\n",
        "    X, y, test_size=0.25, random_state=42\n",
        ")\n",
        "\n",
        "\n",
        "tfidf = TfidfVectorizer(stop_words=\"english\", max_df=0.7)\n",
        "X_train_tfidf = tfidf.fit_transform(X_train)\n",
        "X_test_tfidf = tfidf.transform(X_test)\n",
        "\n",
        "\n",
        "pac = PassiveAggressiveClassifier(max_iter=50)\n",
        "pac.fit(X_train_tfidf, y_train)\n",
        "\n",
        "\n",
        "y_pred = pac.predict(X_test_tfidf)\n",
        "score = accuracy_score(y_test, y_pred)\n",
        "print(f\"\\nAccuracy: {round(score*100,2)}%\")\n",
        "print(\"Confusion Matrix:\")\n",
        "print(confusion_matrix(y_test, y_pred, labels=[0, 1]))\n",
        "\n",
        "\n",
        "sample_news = [\n",
        "    \"The government announced a new plan for economic recovery.\",\n",
        "    \"Breaking! Aliens just landed in New York according to anonymous sources.\"\n",
        "]\n",
        "\n",
        "sample_vec = tfidf.transform(sample_news)\n",
        "sample_pred = pac.predict(sample_vec)\n",
        "\n",
        "for i, news in enumerate(sample_news):\n",
        "    print(\"\\nNews:\", news)\n",
        "    print(\"Prediction:\", \"Fake\" if sample_pred[i] == 1 else \"True\")\n"
      ],
      "metadata": {
        "colab": {
          "base_uri": "https://localhost:8080/"
        },
        "id": "MczWmZxZ2pah",
        "outputId": "553485f6-82c9-426c-f93b-4e7f92a36f41"
      },
      "execution_count": 34,
      "outputs": [
        {
          "output_type": "stream",
          "name": "stdout",
          "text": [
            "Requirement already satisfied: pandas in /usr/local/lib/python3.12/dist-packages (2.2.2)\n",
            "Requirement already satisfied: scikit-learn in /usr/local/lib/python3.12/dist-packages (1.6.1)\n",
            "Requirement already satisfied: numpy>=1.26.0 in /usr/local/lib/python3.12/dist-packages (from pandas) (2.0.2)\n",
            "Requirement already satisfied: python-dateutil>=2.8.2 in /usr/local/lib/python3.12/dist-packages (from pandas) (2.9.0.post0)\n",
            "Requirement already satisfied: pytz>=2020.1 in /usr/local/lib/python3.12/dist-packages (from pandas) (2025.2)\n",
            "Requirement already satisfied: tzdata>=2022.7 in /usr/local/lib/python3.12/dist-packages (from pandas) (2025.2)\n",
            "Requirement already satisfied: scipy>=1.6.0 in /usr/local/lib/python3.12/dist-packages (from scikit-learn) (1.16.1)\n",
            "Requirement already satisfied: joblib>=1.2.0 in /usr/local/lib/python3.12/dist-packages (from scikit-learn) (1.5.1)\n",
            "Requirement already satisfied: threadpoolctl>=3.1.0 in /usr/local/lib/python3.12/dist-packages (from scikit-learn) (3.6.0)\n",
            "Requirement already satisfied: six>=1.5 in /usr/local/lib/python3.12/dist-packages (from python-dateutil>=2.8.2->pandas) (1.17.0)\n",
            "Unique labels before mapping: ['Fake' 'Real']\n",
            "\n",
            "Accuracy: 51.3%\n",
            "Confusion Matrix:\n",
            "[[  0 487]\n",
            " [  0 513]]\n",
            "\n",
            "News: The government announced a new plan for economic recovery.\n",
            "Prediction: Fake\n",
            "\n",
            "News: Breaking! Aliens just landed in New York according to anonymous sources.\n",
            "Prediction: Fake\n"
          ]
        }
      ]
    }
  ]
}