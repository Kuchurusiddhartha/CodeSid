{
  "nbformat": 4,
  "nbformat_minor": 0,
  "metadata": {
    "colab": {
      "provenance": [],
      "authorship_tag": "ABX9TyMWFySKNv/E4KOJ/e3uCoTm",
      "include_colab_link": true
    },
    "kernelspec": {
      "name": "python3",
      "display_name": "Python 3"
    },
    "language_info": {
      "name": "python"
    }
  },
  "cells": [
    {
      "cell_type": "markdown",
      "metadata": {
        "id": "view-in-github",
        "colab_type": "text"
      },
      "source": [
        "<a href=\"https://colab.research.google.com/github/Kuchurusiddhartha/CodeSid/blob/main/FakeNewsDetect.ipynb\" target=\"_parent\"><img src=\"https://colab.research.google.com/assets/colab-badge.svg\" alt=\"Open In Colab\"/></a>"
      ]
    },
    {
      "cell_type": "code",
      "source": [
        "\n",
        "!pip install pandas scikit-learn\n",
        "import pandas as pd\n",
        "from sklearn.model_selection import train_test_split\n",
        "from sklearn.feature_extraction.text import TfidfVectorizer\n",
        "from sklearn.linear_model import PassiveAggressiveClassifier\n",
        "from sklearn.metrics import accuracy_score, confusion_matrix\n",
        "from google.colab import files\n",
        "\n",
        "\n",
        "df_fake = pd.read_csv(\"fake[1].csv\")\n",
        "df_true = pd.read_csv(\"true[1].csv\")\n",
        "\n",
        "\n",
        "df_fake[\"label\"] = 1\n",
        "df_true[\"label\"] = 0\n",
        "\n",
        "\n",
        "df = pd.concat([df_fake, df_true])\n",
        "df = df.sample(frac=1).reset_index(drop=True)\n",
        "\n",
        "\n",
        "X = df[\"text\"]\n",
        "y = df[\"label\"]\n",
        "\n",
        "X_train, X_test, y_train, y_test = train_test_split(\n",
        "    X, y, test_size=0.25, random_state=42\n",
        ")\n",
        "\n",
        "\n",
        "tfidf = TfidfVectorizer(stop_words=\"english\", max_df=0.7)\n",
        "X_train_tfidf = tfidf.fit_transform(X_train)\n",
        "X_test_tfidf = tfidf.transform(X_test)\n",
        "\n",
        "\n",
        "pac = PassiveAggressiveClassifier(max_iter=50)\n",
        "pac.fit(X_train_tfidf, y_train)\n",
        "\n",
        "\n",
        "y_pred = pac.predict(X_test_tfidf)\n",
        "score = accuracy_score(y_test, y_pred)\n",
        "print(f\"✅ Accuracy: {round(score*100,2)}%\")\n",
        "\n",
        "print(\"\\nConfusion Matrix:\")\n",
        "print(confusion_matrix(y_test, y_pred, labels=[0, 1]))\n",
        "\n",
        "\n",
        "sample_news = [\n",
        "    \"The government announced a new plan for economic recovery.\",\n",
        "    \"Breaking! Aliens just landed in New York according to anonymous sources.\"\n",
        "]\n",
        "\n",
        "sample_vec = tfidf.transform(sample_news)\n",
        "sample_pred = pac.predict(sample_vec)\n",
        "\n",
        "for i, news in enumerate(sample_news):\n",
        "    print(\"\\nNews:\", news)\n",
        "    print(\"Prediction:\", \"Fake\" if sample_pred[i] == 1 else \"True\")\n"
      ],
      "metadata": {
        "colab": {
          "base_uri": "https://localhost:8080/"
        },
        "id": "85Zb-XQRxOiE",
        "outputId": "d1513fc4-63d5-455f-eefe-6971bf492574"
      },
      "execution_count": 26,
      "outputs": [
        {
          "output_type": "stream",
          "name": "stdout",
          "text": [
            "Requirement already satisfied: pandas in /usr/local/lib/python3.12/dist-packages (2.2.2)\n",
            "Requirement already satisfied: scikit-learn in /usr/local/lib/python3.12/dist-packages (1.6.1)\n",
            "Requirement already satisfied: numpy>=1.26.0 in /usr/local/lib/python3.12/dist-packages (from pandas) (2.0.2)\n",
            "Requirement already satisfied: python-dateutil>=2.8.2 in /usr/local/lib/python3.12/dist-packages (from pandas) (2.9.0.post0)\n",
            "Requirement already satisfied: pytz>=2020.1 in /usr/local/lib/python3.12/dist-packages (from pandas) (2025.2)\n",
            "Requirement already satisfied: tzdata>=2022.7 in /usr/local/lib/python3.12/dist-packages (from pandas) (2025.2)\n",
            "Requirement already satisfied: scipy>=1.6.0 in /usr/local/lib/python3.12/dist-packages (from scikit-learn) (1.16.1)\n",
            "Requirement already satisfied: joblib>=1.2.0 in /usr/local/lib/python3.12/dist-packages (from scikit-learn) (1.5.1)\n",
            "Requirement already satisfied: threadpoolctl>=3.1.0 in /usr/local/lib/python3.12/dist-packages (from scikit-learn) (3.6.0)\n",
            "Requirement already satisfied: six>=1.5 in /usr/local/lib/python3.12/dist-packages (from python-dateutil>=2.8.2->pandas) (1.17.0)\n",
            "✅ Accuracy: 99.26%\n",
            "\n",
            "Confusion Matrix:\n",
            "[[5359   32]\n",
            " [  51 5783]]\n",
            "\n",
            "News: The government announced a new plan for economic recovery.\n",
            "Prediction: Fake\n",
            "\n",
            "News: Breaking! Aliens just landed in New York according to anonymous sources.\n",
            "Prediction: Fake\n"
          ]
        }
      ]
    }
  ]
}